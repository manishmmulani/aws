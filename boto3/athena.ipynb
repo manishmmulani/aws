{
 "cells": [
  {
   "cell_type": "code",
   "execution_count": 4,
   "metadata": {},
   "outputs": [],
   "source": [
    "import boto3"
   ]
  },
  {
   "cell_type": "code",
   "execution_count": 6,
   "metadata": {},
   "outputs": [],
   "source": [
    "s3 = boto3.client('s3')"
   ]
  },
  {
   "cell_type": "code",
   "execution_count": 8,
   "metadata": {},
   "outputs": [
    {
     "data": {
      "text/plain": [
       "{'Location': 'http://mulani-athena.s3.amazonaws.com/',\n",
       " 'ResponseMetadata': {'HTTPHeaders': {'content-length': '0',\n",
       "   'date': 'Sun, 03 May 2020 09:19:10 GMT',\n",
       "   'location': 'http://mulani-athena.s3.amazonaws.com/',\n",
       "   'server': 'AmazonS3',\n",
       "   'x-amz-id-2': 'olPBUPQBtiDW32IIIreyI4Fo9IaznVjEcS+qFk6go2CqLnLULgb8g04x12zofGCR+B8yRHN+oTg=',\n",
       "   'x-amz-request-id': '0E85D5DF5839474C'},\n",
       "  'HTTPStatusCode': 200,\n",
       "  'HostId': 'olPBUPQBtiDW32IIIreyI4Fo9IaznVjEcS+qFk6go2CqLnLULgb8g04x12zofGCR+B8yRHN+oTg=',\n",
       "  'RequestId': '0E85D5DF5839474C',\n",
       "  'RetryAttempts': 0}}"
      ]
     },
     "execution_count": 8,
     "metadata": {},
     "output_type": "execute_result"
    }
   ],
   "source": [
    "# ACL='private'|'public-read'|'public-read-write'|'authenticated-read',\n",
    "#       Bucket='string',\n",
    "#       CreateBucketConfiguration={\n",
    "#           'LocationConstraint': 'EU'|'eu-west-1'|'us-west-1'|'us-west-2'|'ap-south-1'|'ap-southeast-1'|'ap-southeast-2'|'ap-northeast-1'|'sa-east-1'|'cn-north-1'|'eu-central-1'\n",
    "#       },\n",
    "\n",
    "s3.create_bucket(Bucket='mulani-athena',\n",
    "                 CreateBucketConfiguration={\n",
    "                    'LocationConstraint' : 'ap-south-1'\n",
    "                 })"
   ]
  },
  {
   "cell_type": "code",
   "execution_count": 5,
   "metadata": {},
   "outputs": [],
   "source": [
    "athena = boto3.client('athena')"
   ]
  },
  {
   "cell_type": "code",
   "execution_count": 13,
   "metadata": {},
   "outputs": [],
   "source": [
    "athena_result_config = {'OutputLocation': 's3://mulani-athena'}"
   ]
  },
  {
   "cell_type": "code",
   "execution_count": 17,
   "metadata": {},
   "outputs": [
    {
     "data": {
      "text/plain": [
       "{'QueryExecutionId': '2b1d3611-50b0-4e22-a0a8-09cda1963adb',\n",
       " 'ResponseMetadata': {'HTTPHeaders': {'connection': 'keep-alive',\n",
       "   'content-length': '59',\n",
       "   'content-type': 'application/x-amz-json-1.1',\n",
       "   'date': 'Sun, 03 May 2020 09:35:13 GMT',\n",
       "   'x-amzn-requestid': 'a91e5e4f-5d44-4f51-8515-a9bb0f673e3f'},\n",
       "  'HTTPStatusCode': 200,\n",
       "  'RequestId': 'a91e5e4f-5d44-4f51-8515-a9bb0f673e3f',\n",
       "  'RetryAttempts': 0}}"
      ]
     },
     "execution_count": 17,
     "metadata": {},
     "output_type": "execute_result"
    }
   ],
   "source": [
    "# response = client.start_query_execution(\n",
    "#       QueryString='string',\n",
    "#       ClientRequestToken='string',\n",
    "#       QueryExecutionContext={\n",
    "#           'Database': 'string'\n",
    "#       },\n",
    "#       ResultConfiguration={\n",
    "#           'OutputLocation': 'string',\n",
    "#           'EncryptionConfiguration': {\n",
    "#               'EncryptionOption': 'SSE_S3'|'SSE_KMS'|'CSE_KMS',\n",
    "#               'KmsKey': 'string'\n",
    "#           }\n",
    "#       },\n",
    "#       WorkGroup='string'\n",
    "#   )\n",
    "\n",
    "# CREATE DATABASE\n",
    "athena.start_query_execution(\n",
    "    QueryString='CREATE DATABASE mulani_athena_db',\n",
    "    ResultConfiguration=athena_result_config\n",
    ")"
   ]
  },
  {
   "cell_type": "code",
   "execution_count": 25,
   "metadata": {},
   "outputs": [
    {
     "data": {
      "text/plain": [
       "{'QueryExecutionId': '67a87a6f-99f4-4033-97b8-363376f0f4a2',\n",
       " 'ResponseMetadata': {'HTTPHeaders': {'connection': 'keep-alive',\n",
       "   'content-length': '59',\n",
       "   'content-type': 'application/x-amz-json-1.1',\n",
       "   'date': 'Sun, 03 May 2020 12:37:01 GMT',\n",
       "   'x-amzn-requestid': 'b6969ef9-75f2-4d9c-ae10-bb6a3d4a8f5b'},\n",
       "  'HTTPStatusCode': 200,\n",
       "  'RequestId': 'b6969ef9-75f2-4d9c-ae10-bb6a3d4a8f5b',\n",
       "  'RetryAttempts': 0}}"
      ]
     },
     "execution_count": 25,
     "metadata": {},
     "output_type": "execute_result"
    }
   ],
   "source": [
    "# aws s3api put-object --bucket mulani-athena --key input/data.csv --body data.csv\n",
    "\n",
    "# CREATE TABLE in the above database\n",
    "schema_sql = '''\n",
    "CREATE EXTERNAL TABLE IF NOT EXISTS mulani_athena_db.employee_table \n",
    "(name string, age int, salary int)\n",
    "ROW FORMAT SERDE 'org.apache.hadoop.hive.serde2.lazy.LazySimpleSerDe'\n",
    "WITH SERDEPROPERTIES (\n",
    "  'serialization.format' = ',',\n",
    "  'field.delim' = ','\n",
    ") LOCATION 's3://mulani-athena/input/'\n",
    "TBLPROPERTIES ('has_encrypted_data'='false');\n",
    "'''\n",
    "\n",
    "athena.start_query_execution(\n",
    "    QueryString=schema_sql,\n",
    "    QueryExecutionContext={\n",
    "        'Database': 'mulani_athena_db'\n",
    "    },\n",
    "    ResultConfiguration={\n",
    "        'OutputLocation': 's3://mulani-athena'\n",
    "    }\n",
    ")"
   ]
  }
 ],
 "metadata": {
  "kernelspec": {
   "display_name": "Python 3",
   "language": "python",
   "name": "python3"
  },
  "language_info": {
   "codemirror_mode": {
    "name": "ipython",
    "version": 3
   },
   "file_extension": ".py",
   "mimetype": "text/x-python",
   "name": "python",
   "nbconvert_exporter": "python",
   "pygments_lexer": "ipython3",
   "version": "3.6.9"
  }
 },
 "nbformat": 4,
 "nbformat_minor": 2
}
