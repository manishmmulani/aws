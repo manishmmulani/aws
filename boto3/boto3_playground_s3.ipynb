{
 "cells": [
  {
   "cell_type": "code",
   "execution_count": 41,
   "metadata": {},
   "outputs": [],
   "source": [
    "#http://boto3.readthedocs.io/en/latest/guide/migrations3.html#creating-a-bucket"
   ]
  },
  {
   "cell_type": "code",
   "execution_count": 1,
   "metadata": {},
   "outputs": [],
   "source": [
    "import boto3"
   ]
  },
  {
   "cell_type": "code",
   "execution_count": 2,
   "metadata": {},
   "outputs": [],
   "source": [
    "import sys"
   ]
  },
  {
   "cell_type": "code",
   "execution_count": 3,
   "metadata": {},
   "outputs": [
    {
     "data": {
      "text/plain": [
       "'/home/mulani/.conda/envs/tensorflow/bin/python'"
      ]
     },
     "execution_count": 3,
     "metadata": {},
     "output_type": "execute_result"
    }
   ],
   "source": [
    "sys.executable"
   ]
  },
  {
   "cell_type": "code",
   "execution_count": 4,
   "metadata": {},
   "outputs": [
    {
     "data": {
      "text/plain": [
       "['',\n",
       " '/home/mulani/.conda/envs/tensorflow/lib/python36.zip',\n",
       " '/home/mulani/.conda/envs/tensorflow/lib/python3.6',\n",
       " '/home/mulani/.conda/envs/tensorflow/lib/python3.6/lib-dynload',\n",
       " '/home/mulani/.conda/envs/tensorflow/lib/python3.6/site-packages',\n",
       " '/home/mulani/.conda/envs/tensorflow/lib/python3.6/site-packages/IPython/extensions',\n",
       " '/home/mulani/.ipython']"
      ]
     },
     "execution_count": 4,
     "metadata": {},
     "output_type": "execute_result"
    }
   ],
   "source": [
    "sys.path"
   ]
  },
  {
   "cell_type": "code",
   "execution_count": 6,
   "metadata": {},
   "outputs": [],
   "source": [
    "# Prerequisites\n",
    "# ~/.aws/credentials should have access_key and acess_secret defined\n",
    "# optionally ~/.aws/config should have default region defined\n",
    "s3 = boto3.resource(\"s3\")"
   ]
  },
  {
   "cell_type": "code",
   "execution_count": 11,
   "metadata": {},
   "outputs": [],
   "source": [
    "for bucket in s3.buckets.all():\n",
    "    print(bucket.name)"
   ]
  },
  {
   "cell_type": "code",
   "execution_count": 30,
   "metadata": {},
   "outputs": [],
   "source": [
    "import botocore #for exception handling\n",
    "def bucket_exists(s3, bucketName):\n",
    "    bucket = s3.Bucket(bucketName)\n",
    "    exists = True\n",
    "    \n",
    "    try:\n",
    "        s3.meta.client.head_bucket(Bucket=bucketName)\n",
    "    except botocore.exceptions.ClientError as e:\n",
    "        # If a client error is thrown, then check that it was a 404 error.\n",
    "        # If it was a 404 error, then the bucket does not exist.\n",
    "        error_code = int(e.response['Error']['Code'])\n",
    "        if error_code == 404:\n",
    "            exists = False\n",
    "            \n",
    "    return exists"
   ]
  },
  {
   "cell_type": "code",
   "execution_count": 31,
   "metadata": {},
   "outputs": [
    {
     "data": {
      "text/plain": [
       "True"
      ]
     },
     "execution_count": 31,
     "metadata": {},
     "output_type": "execute_result"
    }
   ],
   "source": [
    "bucket_exists(s3, \"mulani-bucket\")"
   ]
  },
  {
   "cell_type": "code",
   "execution_count": 35,
   "metadata": {},
   "outputs": [],
   "source": [
    "def create_or_get_bucket(s3, bucketName):\n",
    "    \n",
    "    if not bucket_exists(s3, bucketName):\n",
    "        print(\"Creating new bucket : \" + bucketName)\n",
    "        bucket = s3.create_bucket(Bucket=bucketName,CreateBucketConfiguration={\"LocationConstraint\" : \"ap-south-1\"})\n",
    "        print(\"bucket created\")\n",
    "        return bucket\n",
    "    return s3.Bucket(bucketName)\n",
    "# CreateBucketConfiguration is required if ~/.aws/config doesn't have default region configured"
   ]
  },
  {
   "cell_type": "code",
   "execution_count": 14,
   "metadata": {},
   "outputs": [],
   "source": [
    "my_bucket = s3.Bucket(\"mulani-bucket\")"
   ]
  },
  {
   "cell_type": "code",
   "execution_count": 36,
   "metadata": {},
   "outputs": [
    {
     "data": {
      "text/plain": [
       "s3.Bucket(name='mulani-bucket2')"
      ]
     },
     "execution_count": 36,
     "metadata": {},
     "output_type": "execute_result"
    }
   ],
   "source": [
    "create_or_get_bucket(s3, \"mulani-bucket2\")"
   ]
  },
  {
   "cell_type": "code",
   "execution_count": 40,
   "metadata": {},
   "outputs": [
    {
     "data": {
      "text/plain": [
       "{'ETag': '\"eb00d2fac974111b6f0cbfc1f1158169\"',\n",
       " 'ResponseMetadata': {'HTTPHeaders': {'content-length': '0',\n",
       "   'date': 'Sat, 25 Nov 2017 10:55:34 GMT',\n",
       "   'etag': '\"eb00d2fac974111b6f0cbfc1f1158169\"',\n",
       "   'server': 'AmazonS3',\n",
       "   'x-amz-id-2': 'SHa+Ico6+LetNCPErF2zl90qPpnwtyAc+w9vmk9rVH6j5rHtKnYMuc2+tgIKmlMrYDR4GrTvkMM=',\n",
       "   'x-amz-request-id': '0A7151F7953AB4DD'},\n",
       "  'HTTPStatusCode': 200,\n",
       "  'HostId': 'SHa+Ico6+LetNCPErF2zl90qPpnwtyAc+w9vmk9rVH6j5rHtKnYMuc2+tgIKmlMrYDR4GrTvkMM=',\n",
       "  'RequestId': '0A7151F7953AB4DD',\n",
       "  'RetryAttempts': 0}}"
      ]
     },
     "execution_count": 40,
     "metadata": {},
     "output_type": "execute_result"
    }
   ],
   "source": [
    "# Upload Boto3 notes to mulani-bucket\n",
    "s3_object_file = s3.Object(\"mulani-bucket\", \"boto3_notes\")\n",
    "s3_object_file.put(Body=open(\"notes\", \"rb\"))\n",
    "s3_object_text = s3.Object(\"mulani-bucket\", \"general_text\")\n",
    "s3_object_text.put(Body=\"Text content\\nHello World Guys\\nBye!!\")"
   ]
  },
  {
   "cell_type": "code",
   "execution_count": 42,
   "metadata": {},
   "outputs": [],
   "source": [
    "# Clear all keys and buckets\n",
    "for bucket in s3.buckets.all():\n",
    "    for object in bucket.objects.all():\n",
    "        object.delete()\n",
    "    bucket.delete()\n"
   ]
  }
 ],
 "metadata": {
  "kernelspec": {
   "display_name": "Python 3",
   "language": "python",
   "name": "python3"
  },
  "language_info": {
   "codemirror_mode": {
    "name": "ipython",
    "version": 3
   },
   "file_extension": ".py",
   "mimetype": "text/x-python",
   "name": "python",
   "nbconvert_exporter": "python",
   "pygments_lexer": "ipython3",
   "version": "3.6.3"
  }
 },
 "nbformat": 4,
 "nbformat_minor": 2
}
