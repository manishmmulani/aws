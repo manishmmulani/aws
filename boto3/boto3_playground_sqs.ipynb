{
 "cells": [
  {
   "cell_type": "code",
   "execution_count": 1,
   "metadata": {},
   "outputs": [],
   "source": [
    "#http://boto3.readthedocs.io/en/latest/guide/sqs-example-using-queues.html\n",
    "#http://docs.aws.amazon.com/AWSSimpleQueueService/latest/SQSDeveloperGuide/Welcome.html"
   ]
  },
  {
   "cell_type": "code",
   "execution_count": 2,
   "metadata": {},
   "outputs": [],
   "source": [
    "import boto3"
   ]
  },
  {
   "cell_type": "code",
   "execution_count": 3,
   "metadata": {},
   "outputs": [],
   "source": [
    "sqs = boto3.client('sqs')"
   ]
  },
  {
   "cell_type": "code",
   "execution_count": 8,
   "metadata": {},
   "outputs": [
    {
     "data": {
      "text/plain": [
       "{'QueueUrl': 'https://ap-south-1.queue.amazonaws.com/088045063209/mulani-queue',\n",
       " 'ResponseMetadata': {'HTTPHeaders': {'connection': 'keep-alive',\n",
       "   'content-length': '335',\n",
       "   'content-type': 'text/xml',\n",
       "   'date': 'Sun, 26 Nov 2017 14:12:20 GMT',\n",
       "   'server': 'Server',\n",
       "   'x-amzn-requestid': 'd536282f-395b-58d5-949e-7abbf75f1fec'},\n",
       "  'HTTPStatusCode': 200,\n",
       "  'RequestId': 'd536282f-395b-58d5-949e-7abbf75f1fec',\n",
       "  'RetryAttempts': 0}}"
      ]
     },
     "execution_count": 8,
     "metadata": {},
     "output_type": "execute_result"
    }
   ],
   "source": [
    "# Standard Queues vs Fifo queues\n",
    "# Suffix the queue name with .fifo if you are looking for FIFO queue\n",
    "sqs.create_queue(\n",
    "    QueueName='mulani-queue',\n",
    "    Attributes={\n",
    "        'DelaySeconds':'60',\n",
    "        'MessageRetentionPeriod':'86400'\n",
    "    })"
   ]
  },
  {
   "cell_type": "code",
   "execution_count": 12,
   "metadata": {},
   "outputs": [],
   "source": [
    "response = sqs.list_queues()"
   ]
  },
  {
   "cell_type": "code",
   "execution_count": 14,
   "metadata": {},
   "outputs": [
    {
     "data": {
      "text/plain": [
       "['https://ap-south-1.queue.amazonaws.com/088045063209/mulani-queue']"
      ]
     },
     "execution_count": 14,
     "metadata": {},
     "output_type": "execute_result"
    }
   ],
   "source": [
    "response['QueueUrls']"
   ]
  },
  {
   "cell_type": "code",
   "execution_count": 16,
   "metadata": {},
   "outputs": [
    {
     "data": {
      "text/plain": [
       "{'QueueUrl': 'https://ap-south-1.queue.amazonaws.com/088045063209/mulani-queue',\n",
       " 'ResponseMetadata': {'HTTPHeaders': {'connection': 'keep-alive',\n",
       "   'content-length': '335',\n",
       "   'content-type': 'text/xml',\n",
       "   'date': 'Sun, 26 Nov 2017 14:13:29 GMT',\n",
       "   'server': 'Server',\n",
       "   'x-amzn-requestid': 'e2646d51-9b00-54f0-88cc-3fc55549d3c9'},\n",
       "  'HTTPStatusCode': 200,\n",
       "  'RequestId': 'e2646d51-9b00-54f0-88cc-3fc55549d3c9',\n",
       "  'RetryAttempts': 0}}"
      ]
     },
     "execution_count": 16,
     "metadata": {},
     "output_type": "execute_result"
    }
   ],
   "source": [
    "sqs.get_queue_url(QueueName='mulani-queue')"
   ]
  },
  {
   "cell_type": "code",
   "execution_count": null,
   "metadata": {},
   "outputs": [],
   "source": [
    "sqs.delete_queue(QueueName='mulani-queue')"
   ]
  },
  {
   "cell_type": "code",
   "execution_count": 20,
   "metadata": {},
   "outputs": [
    {
     "data": {
      "text/plain": [
       "{'ResponseMetadata': {'HTTPHeaders': {'connection': 'keep-alive',\n",
       "   'content-length': '225',\n",
       "   'content-type': 'text/xml',\n",
       "   'date': 'Sun, 26 Nov 2017 15:16:35 GMT',\n",
       "   'server': 'Server',\n",
       "   'x-amzn-requestid': '851ffded-4c61-5c4f-acfe-af799172bd78'},\n",
       "  'HTTPStatusCode': 200,\n",
       "  'RequestId': '851ffded-4c61-5c4f-acfe-af799172bd78',\n",
       "  'RetryAttempts': 0}}"
      ]
     },
     "execution_count": 20,
     "metadata": {},
     "output_type": "execute_result"
    }
   ],
   "source": [
    "sqs.set_queue_attributes(\n",
    "    QueueUrl=sqs.get_queue_url(QueueName='mulani-queue')['QueueUrl'],\n",
    "    Attributes={\n",
    "        'VisibilityTimeout':'60' #message once received will not be visible for other consumers for 5 sec during which it can be deleted by primary consumer\n",
    "    }\n",
    ")"
   ]
  },
  {
   "cell_type": "code",
   "execution_count": 22,
   "metadata": {},
   "outputs": [],
   "source": [
    "response = sqs.send_message(\n",
    "    QueueUrl=sqs.get_queue_url(QueueName='mulani-queue')['QueueUrl'],\n",
    "    DelaySeconds=10, #message visible for receipt only after 10 seconds\n",
    "    MessageAttributes={\n",
    "        'Author':{\n",
    "            'DataType':'String',\n",
    "            'StringValue' : 'Manish Mulani'\n",
    "        },\n",
    "        'Title':{\n",
    "            'DataType':'String',\n",
    "            'StringValue':'Hello World'\n",
    "        },\n",
    "        'Rank':{\n",
    "            'DataType':'Number',\n",
    "            'StringValue' : '6'\n",
    "        }\n",
    "    },\n",
    "    MessageBody='Come on man. Thats the spirit'\n",
    ")"
   ]
  },
  {
   "cell_type": "code",
   "execution_count": 24,
   "metadata": {},
   "outputs": [
    {
     "data": {
      "text/plain": [
       "'699cb578-dc1c-495e-af89-82f4b918c1f8'"
      ]
     },
     "execution_count": 24,
     "metadata": {},
     "output_type": "execute_result"
    }
   ],
   "source": [
    "response['MessageId']"
   ]
  },
  {
   "cell_type": "code",
   "execution_count": 35,
   "metadata": {},
   "outputs": [],
   "source": [
    "response = sqs.receive_message(\n",
    "    QueueUrl=sqs.get_queue_url(QueueName='mulani-queue')['QueueUrl'],\n",
    "    AttributeNames=['SentTimestamp'],\n",
    "    MaxNumberOfMessages=1,\n",
    "    MessageAttributeNames=['All']\n",
    ")"
   ]
  },
  {
   "cell_type": "code",
   "execution_count": 36,
   "metadata": {},
   "outputs": [
    {
     "data": {
      "text/plain": [
       "{'Messages': [{'Attributes': {'SentTimestamp': '1511709426400'},\n",
       "   'Body': 'Come on man. Thats the spirit',\n",
       "   'MD5OfBody': '2fdf26b8e05f4cdbc98239ccf1adeb33',\n",
       "   'MD5OfMessageAttributes': 'f78960b4bf9c67a10d9f8204bce95537',\n",
       "   'MessageAttributes': {'Author': {'DataType': 'String',\n",
       "     'StringValue': 'Manish Mulani'},\n",
       "    'Rank': {'DataType': 'Number', 'StringValue': '6'},\n",
       "    'Title': {'DataType': 'String', 'StringValue': 'Hello World'}},\n",
       "   'MessageId': '699cb578-dc1c-495e-af89-82f4b918c1f8',\n",
       "   'ReceiptHandle': 'AQEBfaUKwmwQ1nNeH+0XiC+djn1HxFLou0AqbuTGHrL9FXnzqpSRwJLOmBXQA/CcGuJrmOLcBmouh+BXut7PR6gukzGWA6LI0i0mFqZHTYdoL7sqUJQRjEhp8+Aju4N7AFTmNxEcOxTUZ8XF1v3E5LuP7G4GYs8lVGv0Jp3/sOqvWRbAxsoEORaTGraEBL2LWcCAWvEddAaWlhgDQ64Rj0fjWjdtyK3njRC0k9+Ohh8sUkThIuP/fVNYQG0GV2mLgPcQ7jQF3P/g/gxXZ8TgeX7liLv+EOH55HCutGYx/+M/x/zSdWA/3a9G3w0gcdlLxdDaAiyQqV+FcGpZbEzgn1eYfKmTRIcOzD6sU8FyGduduUtrp8QkAqMe5eK14l6Wo0BKMApYJyfuAfqXH1D0MOH3+w=='}],\n",
       " 'ResponseMetadata': {'HTTPHeaders': {'connection': 'keep-alive',\n",
       "   'content-length': '1435',\n",
       "   'content-type': 'text/xml',\n",
       "   'date': 'Sun, 26 Nov 2017 15:26:25 GMT',\n",
       "   'server': 'Server',\n",
       "   'x-amzn-requestid': 'bf3dc1db-3258-5593-a03c-934fed397d69'},\n",
       "  'HTTPStatusCode': 200,\n",
       "  'RequestId': 'bf3dc1db-3258-5593-a03c-934fed397d69',\n",
       "  'RetryAttempts': 0}}"
      ]
     },
     "execution_count": 36,
     "metadata": {},
     "output_type": "execute_result"
    }
   ],
   "source": [
    "response"
   ]
  },
  {
   "cell_type": "code",
   "execution_count": 39,
   "metadata": {},
   "outputs": [],
   "source": [
    "handleToDelete = response['Messages'][0]['ReceiptHandle']"
   ]
  },
  {
   "cell_type": "code",
   "execution_count": 40,
   "metadata": {},
   "outputs": [
    {
     "data": {
      "text/plain": [
       "{'ResponseMetadata': {'HTTPHeaders': {'connection': 'keep-alive',\n",
       "   'content-length': '215',\n",
       "   'content-type': 'text/xml',\n",
       "   'date': 'Sun, 26 Nov 2017 15:28:59 GMT',\n",
       "   'server': 'Server',\n",
       "   'x-amzn-requestid': '181ddfc1-01db-5c2f-b77e-8d55de2080b4'},\n",
       "  'HTTPStatusCode': 200,\n",
       "  'RequestId': '181ddfc1-01db-5c2f-b77e-8d55de2080b4',\n",
       "  'RetryAttempts': 0}}"
      ]
     },
     "execution_count": 40,
     "metadata": {},
     "output_type": "execute_result"
    }
   ],
   "source": [
    "# Message stays in the Queue until its deleted\n",
    "sqs.delete_message(\n",
    "    QueueUrl=sqs.get_queue_url(QueueName='mulani-queue')['QueueUrl'],\n",
    "    ReceiptHandle=handleToDelete\n",
    ")"
   ]
  }
 ],
 "metadata": {
  "kernelspec": {
   "display_name": "Python 3",
   "language": "python",
   "name": "python3"
  },
  "language_info": {
   "codemirror_mode": {
    "name": "ipython",
    "version": 3
   },
   "file_extension": ".py",
   "mimetype": "text/x-python",
   "name": "python",
   "nbconvert_exporter": "python",
   "pygments_lexer": "ipython3",
   "version": "3.6.3"
  }
 },
 "nbformat": 4,
 "nbformat_minor": 2
}
